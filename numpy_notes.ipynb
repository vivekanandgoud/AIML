{
 "cells": [
  {
   "cell_type": "code",
   "execution_count": 1,
   "metadata": {},
   "outputs": [],
   "source": [
    "import numpy as np\n",
    "import matplotlib.pyplot as plt\n",
    "import math"
   ]
  },
  {
   "cell_type": "code",
   "execution_count": 2,
   "metadata": {},
   "outputs": [],
   "source": [
    "a = np.array([[1,2,3],[4,5,6],(0,9,8)])\n",
    "b= np.array([(1,2,3),(4,5,6)])\n",
    "x= np.array([(1,2,3),(4,5,6)])\n",
    "y= np.array([(1,2,3),(4,5,6)])\n"
   ]
  },
  {
   "cell_type": "code",
   "execution_count": 3,
   "metadata": {},
   "outputs": [
    {
     "name": "stdout",
     "output_type": "stream",
     "text": [
      "[[1 2 3]\n",
      " [4 5 6]\n",
      " [0 9 8]]\n",
      "2\n",
      "4\n",
      "int32\n",
      "9\n",
      "(3, 3)\n",
      "[[1 2]\n",
      " [3 4]\n",
      " [5 6]]\n",
      "3\n",
      "[3 6 8]\n",
      "[3 6]\n",
      "[ 1.  2.  3.  4.  5.  6.  7.  8.  9. 10.]\n",
      "9\n",
      "0\n",
      "38\n",
      "[[1 2 3]\n",
      " [4 5 6]\n",
      " [0 9 8]]\n",
      "[ 5 16 17]\n",
      "[ 6 15 17]\n",
      "[[1.         1.41421356 1.73205081]\n",
      " [2.         2.23606798 2.44948974]\n",
      " [0.         3.         2.82842712]]\n",
      "2.8974232912011773\n",
      "[[1 2 3]\n",
      " [4 5 6]]\n",
      "[[1 2 3]\n",
      " [4 5 6]]\n",
      "[[ 2  4  6]\n",
      " [ 8 10 12]]\n",
      "[[ 1  4  9]\n",
      " [16 25 36]]\n",
      "[[0 0 0]\n",
      " [0 0 0]]\n",
      "[[1. 1. 1.]\n",
      " [1. 1. 1.]]\n",
      "[[1 2 3]\n",
      " [4 5 6]\n",
      " [1 2 3]\n",
      " [4 5 6]]\n",
      "[[1 2 3 1 2 3]\n",
      " [4 5 6 4 5 6]]\n",
      "[1 2 3 4 5 6]\n",
      "[[1 4 0]\n",
      " [2 5 9]\n",
      " [3 6 8]]\n"
     ]
    },
    {
     "data": {
      "image/png": "[encoded data removed]",
      "text/plain": [
       "<matplotlib.figure.Figure at 0x2052d4ca2e8>"
      ]
     },
     "metadata": {},
     "output_type": "display_data"
    },
    {
     "name": "stdout",
     "output_type": "stream",
     "text": [
      "[ 2.71828183  7.3890561  20.08553692]\n",
      "[0.         0.69314718 1.09861229]\n",
      "[0.         0.30103    0.47712125]\n",
      "[[1 4 0]\n",
      " [2 5 9]\n",
      " [3 6 8]]\n"
     ]
    }
   ],
   "source": [
    "print (a)\n",
    "print (a.ndim) #dimantions\n",
    "print (a.itemsize) # size of the item\n",
    "print (a.dtype) # data type of the items\n",
    "print (a.size) # size of the array \n",
    "print (a.shape) # rows and colomns of array\n",
    "b=b.reshape(3,2) # re shape the rows and colomns \n",
    "print (b)\n",
    "print (a[0,2])  \n",
    "print (a[0:,2])  # slicing\n",
    "print (a[0:2,2])  # slicing\n",
    "c=np.linspace(1,10,10)  # line space between 1 to 10\n",
    "print (c)\n",
    "print (a.max()) # max number of array\n",
    "print (a.min()) # min number of array\n",
    "print (a.sum()) # sum of array items\n",
    "print (a)\n",
    "print (a.sum(axis=0)) # sum of colomns\n",
    "print (a.sum(axis=1)) # sum of rows\n",
    "print (np.sqrt(a)) #square root of each elements\n",
    "print (np.std(a)) # standard deaviation \n",
    "print (x)\n",
    "print (y)\n",
    "print (x+y) # matrix addition\n",
    "print (x*y) # matrix multiplication\n",
    "print (x-y) # matrix substraction\n",
    "print (x/y) # matrix devision\n",
    "print (np.vstack((x,y))) # cancat matrix vertically\n",
    "print (np.hstack((x,y))) # cancat matrix hargantally \n",
    "print (b.ravel()) #cambine in to single matrix\n",
    "print (np.transpose(a))\n",
    "m= np.arange(0,3*np.pi,0.1)  # sin wave plot dwaing \n",
    "n= np.sin(m)\n",
    "plt.plot(m,n)\n",
    "plt.show()\n",
    "\n",
    "ar = np.array([1,2,3])\n",
    "print (np.exp(ar)) # eX exponatial \n",
    "print (np.log(ar)) # natural log\n",
    "print (np.log10(ar)) # log base 10\n",
    "\n",
    "print (np.transpose(a))\n"
   ]
  },
  {
   "cell_type": "markdown",
   "metadata": {},
   "source": [
    "x= np.array([(1,2,3),(4,5,6)])\n",
    "y= np.array([(1,2,3),(4,5,6)])\n",
    "print(np.dot(x,y))"
   ]
  },
  {
   "cell_type": "code",
   "execution_count": 8,
   "metadata": {},
   "outputs": [
    {
     "data": {
      "text/plain": [
       "array([[4, 1],\n",
       "       [2, 2]])"
      ]
     },
     "execution_count": 8,
     "metadata": {},
     "output_type": "execute_result"
    }
   ],
   "source": [
    "x1= [[1, 0], [0, 1]]\n",
    "y1= [[4, 1], [2, 2]]\n",
    "np.dot(x1,y1)"
   ]
  },
  {
   "cell_type": "code",
   "execution_count": null,
   "metadata": {},
   "outputs": [],
   "source": []
  }
 ],
 "metadata": {
  "kernelspec": {
   "display_name": "Python 3",
   "language": "python",
   "name": "python3"
  },
  "language_info": {
   "codemirror_mode": {
    "name": "ipython",
    "version": 3
   },
   "file_extension": ".py",
   "mimetype": "text/x-python",
   "name": "python",
   "nbconvert_exporter": "python",
   "pygments_lexer": "ipython3",
   "version": "3.6.4"
  }
 },
 "nbformat": 4,
 "nbformat_minor": 2
}
